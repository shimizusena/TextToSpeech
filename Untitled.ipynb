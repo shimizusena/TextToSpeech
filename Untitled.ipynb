{
 "cells": [
  {
   "cell_type": "code",
   "execution_count": 47,
   "id": "41a67d8c-647f-4d96-818e-7ef6779b0157",
   "metadata": {
    "tags": []
   },
   "outputs": [],
   "source": [
    "import os"
   ]
  },
  {
   "cell_type": "code",
   "execution_count": 48,
   "id": "fa51f4af-4715-4ce5-8208-f9980ee8a106",
   "metadata": {},
   "outputs": [],
   "source": [
    "os.environ[\"GOOGLE_APPLICATION_CREDENTIALS\"] = \"secret.json\""
   ]
  },
  {
   "cell_type": "code",
   "execution_count": 49,
   "id": "46617fc3-8e78-4979-a6ea-c63f97c64f9f",
   "metadata": {
    "tags": []
   },
   "outputs": [
    {
     "name": "stdout",
     "output_type": "stream",
     "text": [
      "Requirement already satisfied: google-cloud-texttospeech in /Users/shimizuseina/opt/anaconda3/lib/python3.8/site-packages (2.9.0)\n",
      "Requirement already satisfied: google-api-core[grpc]<3.0.0dev,>=1.28.0 in /Users/shimizuseina/opt/anaconda3/lib/python3.8/site-packages (from google-cloud-texttospeech) (2.3.2)\n",
      "Requirement already satisfied: proto-plus>=1.4.0 in /Users/shimizuseina/opt/anaconda3/lib/python3.8/site-packages (from google-cloud-texttospeech) (1.19.8)\n",
      "Requirement already satisfied: protobuf>=3.12.0 in /Users/shimizuseina/opt/anaconda3/lib/python3.8/site-packages (from google-api-core[grpc]<3.0.0dev,>=1.28.0->google-cloud-texttospeech) (3.19.1)\n",
      "Requirement already satisfied: setuptools>=40.3.0 in /Users/shimizuseina/opt/anaconda3/lib/python3.8/site-packages (from google-api-core[grpc]<3.0.0dev,>=1.28.0->google-cloud-texttospeech) (52.0.0.post20210125)\n",
      "Requirement already satisfied: requests<3.0.0dev,>=2.18.0 in /Users/shimizuseina/opt/anaconda3/lib/python3.8/site-packages (from google-api-core[grpc]<3.0.0dev,>=1.28.0->google-cloud-texttospeech) (2.25.1)\n",
      "Requirement already satisfied: google-auth<3.0dev,>=1.25.0 in /Users/shimizuseina/opt/anaconda3/lib/python3.8/site-packages (from google-api-core[grpc]<3.0.0dev,>=1.28.0->google-cloud-texttospeech) (2.3.3)\n",
      "Requirement already satisfied: googleapis-common-protos<2.0dev,>=1.52.0 in /Users/shimizuseina/opt/anaconda3/lib/python3.8/site-packages (from google-api-core[grpc]<3.0.0dev,>=1.28.0->google-cloud-texttospeech) (1.54.0)\n",
      "Requirement already satisfied: grpcio-status<2.0dev,>=1.33.2 in /Users/shimizuseina/opt/anaconda3/lib/python3.8/site-packages (from google-api-core[grpc]<3.0.0dev,>=1.28.0->google-cloud-texttospeech) (1.43.0)\n",
      "Requirement already satisfied: grpcio<2.0dev,>=1.33.2 in /Users/shimizuseina/opt/anaconda3/lib/python3.8/site-packages (from google-api-core[grpc]<3.0.0dev,>=1.28.0->google-cloud-texttospeech) (1.43.0)\n",
      "Requirement already satisfied: pyasn1-modules>=0.2.1 in /Users/shimizuseina/opt/anaconda3/lib/python3.8/site-packages (from google-auth<3.0dev,>=1.25.0->google-api-core[grpc]<3.0.0dev,>=1.28.0->google-cloud-texttospeech) (0.2.8)\n",
      "Requirement already satisfied: six>=1.9.0 in /Users/shimizuseina/opt/anaconda3/lib/python3.8/site-packages (from google-auth<3.0dev,>=1.25.0->google-api-core[grpc]<3.0.0dev,>=1.28.0->google-cloud-texttospeech) (1.15.0)\n",
      "Requirement already satisfied: rsa<5,>=3.1.4 in /Users/shimizuseina/opt/anaconda3/lib/python3.8/site-packages (from google-auth<3.0dev,>=1.25.0->google-api-core[grpc]<3.0.0dev,>=1.28.0->google-cloud-texttospeech) (4.8)\n",
      "Requirement already satisfied: cachetools<5.0,>=2.0.0 in /Users/shimizuseina/opt/anaconda3/lib/python3.8/site-packages (from google-auth<3.0dev,>=1.25.0->google-api-core[grpc]<3.0.0dev,>=1.28.0->google-cloud-texttospeech) (4.2.4)\n",
      "Requirement already satisfied: certifi>=2017.4.17 in /Users/shimizuseina/opt/anaconda3/lib/python3.8/site-packages (from requests<3.0.0dev,>=2.18.0->google-api-core[grpc]<3.0.0dev,>=1.28.0->google-cloud-texttospeech) (2020.12.5)\n",
      "Requirement already satisfied: chardet<5,>=3.0.2 in /Users/shimizuseina/opt/anaconda3/lib/python3.8/site-packages (from requests<3.0.0dev,>=2.18.0->google-api-core[grpc]<3.0.0dev,>=1.28.0->google-cloud-texttospeech) (4.0.0)\n",
      "Requirement already satisfied: urllib3<1.27,>=1.21.1 in /Users/shimizuseina/opt/anaconda3/lib/python3.8/site-packages (from requests<3.0.0dev,>=2.18.0->google-api-core[grpc]<3.0.0dev,>=1.28.0->google-cloud-texttospeech) (1.26.4)\n",
      "Requirement already satisfied: idna<3,>=2.5 in /Users/shimizuseina/opt/anaconda3/lib/python3.8/site-packages (from requests<3.0.0dev,>=2.18.0->google-api-core[grpc]<3.0.0dev,>=1.28.0->google-cloud-texttospeech) (2.10)\n",
      "Requirement already satisfied: pyasn1<0.5.0,>=0.4.6 in /Users/shimizuseina/opt/anaconda3/lib/python3.8/site-packages (from pyasn1-modules>=0.2.1->google-auth<3.0dev,>=1.25.0->google-api-core[grpc]<3.0.0dev,>=1.28.0->google-cloud-texttospeech) (0.4.8)\n"
     ]
    }
   ],
   "source": [
    "!pip3 install --upgrade google-cloud-texttospeech"
   ]
  },
  {
   "cell_type": "code",
   "execution_count": 50,
   "id": "4792d65b-52c9-4663-bd89-f0ae051d0732",
   "metadata": {},
   "outputs": [
    {
     "data": {
      "text/html": [
       "\n",
       "                <audio  controls=\"controls\" >\n",
       "                    <source src=\"data:audio/wav;base64,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\" type=\"audio/wav\" />\n",
       "                    Your browser does not support the audio element.\n",
       "                </audio>\n",
       "              "
      ],
      "text/plain": [
       "<IPython.lib.display.Audio object>"
      ]
     },
     "execution_count": 50,
     "metadata": {},
     "output_type": "execute_result"
    }
   ],
   "source": [
    "from IPython.display import Audio\n",
    "Audio(response.audio_content)"
   ]
  },
  {
   "cell_type": "code",
   "execution_count": 51,
   "id": "1e98ca37-5da6-4232-be93-b4c7b36d60c1",
   "metadata": {},
   "outputs": [],
   "source": [
    "from google.cloud import texttospeech"
   ]
  },
  {
   "cell_type": "code",
   "execution_count": 69,
   "id": "71856b06-c15f-419f-ab00-1aa06b391cf5",
   "metadata": {},
   "outputs": [],
   "source": [
    "def synthesize_speech(text, lang=\"日本語\", gender=\"default\"):\n",
    "\n",
    "    gender_type = {\n",
    "        \"default\" : texttospeech.SsmlVoiceGender.SSML_VOICE_GENDER_UNSPECIFIED,\n",
    "        \"male\" : texttospeech.SsmlVoiceGender.MALE,\n",
    "        \"female\" : texttospeech.SsmlVoiceGender.FEMALE,\n",
    "        \"neutral\" : texttospeech.SsmlVoiceGender.NEUTRAL\n",
    "    }\n",
    "    lang_code = {\n",
    "        \"英語\":\"en-US\",\n",
    "        \"日本語\":\"ja-JP\"\n",
    "    }\n",
    "    \n",
    "    # Instantiates a client\n",
    "    client = texttospeech.TextToSpeechClient()\n",
    "\n",
    "    # Set the text input to be synthesized\n",
    "    synthesis_input = texttospeech.SynthesisInput(text=text)\n",
    "\n",
    "    # Build the voice request, select the language code (\"en-US\") and the ssml\n",
    "    # voice gender (\"neutral\")\n",
    "    print(gender)\n",
    "    voice = texttospeech.VoiceSelectionParams(\n",
    "        language_code=lang_code[lang], ssml_gender=gender_type[gender]\n",
    "    )\n",
    "\n",
    "    # Select the type of audio file you want returned\n",
    "    audio_config = texttospeech.AudioConfig(\n",
    "        audio_encoding=texttospeech.AudioEncoding.MP3\n",
    "    )\n",
    "\n",
    "    # Perform the text-to-speech request on the text input with the selected\n",
    "    # voice parameters and audio file type\n",
    "    response = client.synthesize_speech(\n",
    "        input=synthesis_input, voice=voice, audio_config=audio_config\n",
    "    )\n",
    "\n",
    "    return response\n",
    "# The response's audio_content is binary.\n",
    "\n",
    "# filename = \"output.mp3\"\n",
    "# with open(filename, \"wb\") as out:\n",
    "#     # Write the response to the output file.\n",
    "#     out.write(response.audio_content)\n",
    "#     print(f'音声ファイルは{filename}ファイルに書き出しました')\n"
   ]
  },
  {
   "cell_type": "code",
   "execution_count": 71,
   "id": "cac1de5f-827b-4259-8334-af91c05bbdaa",
   "metadata": {},
   "outputs": [
    {
     "name": "stdout",
     "output_type": "stream",
     "text": [
      "female\n"
     ]
    },
    {
     "data": {
      "text/html": [
       "\n",
       "                <audio  controls=\"controls\" >\n",
       "                    <source src=\"data:audio/wav;base64,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\" type=\"audio/wav\" />\n",
       "                    Your browser does not support the audio element.\n",
       "                </audio>\n",
       "              "
      ],
      "text/plain": [
       "<IPython.lib.display.Audio object>"
      ]
     },
     "execution_count": 71,
     "metadata": {},
     "output_type": "execute_result"
    }
   ],
   "source": [
    "lang = \"日本語\"\n",
    "gender = \"default\"\n",
    "text = \"こんにちは、私は清水世那です\"\n",
    "\n",
    "response = synthesize_speech(text,gender=\"female\")\n",
    "Audio(response.audio_content)"
   ]
  },
  {
   "cell_type": "code",
   "execution_count": null,
   "id": "14d6fe05-93b8-41a9-a0ef-014a60a8ece8",
   "metadata": {},
   "outputs": [],
   "source": []
  },
  {
   "cell_type": "code",
   "execution_count": null,
   "id": "6a107c3b-7069-4684-a343-25a48e688527",
   "metadata": {},
   "outputs": [],
   "source": []
  },
  {
   "cell_type": "code",
   "execution_count": null,
   "id": "2e441d66-8454-4b42-8b32-20d8fbb9d1c1",
   "metadata": {},
   "outputs": [],
   "source": []
  },
  {
   "cell_type": "code",
   "execution_count": null,
   "id": "0318a41d-c4c0-484f-af71-0e6e8a4b5add",
   "metadata": {},
   "outputs": [],
   "source": []
  },
  {
   "cell_type": "code",
   "execution_count": null,
   "id": "4bd82f37-1257-460d-9fd1-529761dbabb1",
   "metadata": {},
   "outputs": [],
   "source": []
  },
  {
   "cell_type": "code",
   "execution_count": null,
   "id": "62585531-63ee-47f0-9ef6-cd73e4638dfe",
   "metadata": {},
   "outputs": [],
   "source": []
  },
  {
   "cell_type": "code",
   "execution_count": null,
   "id": "e0c855a6-a1c4-4ce9-ae37-d59a635926e1",
   "metadata": {},
   "outputs": [],
   "source": []
  },
  {
   "cell_type": "code",
   "execution_count": null,
   "id": "58398a9a-7c9a-444e-9410-fc19e11e4b3d",
   "metadata": {},
   "outputs": [],
   "source": []
  },
  {
   "cell_type": "code",
   "execution_count": null,
   "id": "07c4bc53-d2bb-414a-b876-f457599c44f1",
   "metadata": {},
   "outputs": [],
   "source": []
  }
 ],
 "metadata": {
  "kernelspec": {
   "display_name": "Python 3",
   "language": "python",
   "name": "python3"
  },
  "language_info": {
   "codemirror_mode": {
    "name": "ipython",
    "version": 3
   },
   "file_extension": ".py",
   "mimetype": "text/x-python",
   "name": "python",
   "nbconvert_exporter": "python",
   "pygments_lexer": "ipython3",
   "version": "3.8.8"
  }
 },
 "nbformat": 4,
 "nbformat_minor": 5
}
